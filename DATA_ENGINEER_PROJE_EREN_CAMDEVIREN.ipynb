{
  "nbformat": 4,
  "nbformat_minor": 0,
  "metadata": {
    "colab": {
      "name": "DATA_ENGINEER_PROJE_EREN_CAMDEVIREN.ipynb",
      "provenance": [],
      "collapsed_sections": []
    },
    "kernelspec": {
      "name": "python3",
      "display_name": "Python 3"
    },
    "language_info": {
      "name": "python"
    }
  },
  "cells": [
    {
      "cell_type": "code",
      "metadata": {
        "colab": {
          "base_uri": "https://localhost:8080/"
        },
        "id": "JPLSx515qiS8",
        "outputId": "dbf7184b-5736-4ea1-c06c-8716a5afdd35"
      },
      "source": [
        "!apt-get install openjdk-8-jdk-headless -qq > /dev/null\n",
        "import os\n",
        "os.environ[\"JAVA_HOME\"] = \"/usr/lib/jvm/java-8-openjdk-amd64\"\n",
        "!update-alternatives --set java /usr/lib/jvm/java-8-openjdk-amd64/jre/bin/java\n",
        "!java -version\n",
        "\n",
        "!pip install pyspark"
      ],
      "execution_count": 1,
      "outputs": [
        {
          "output_type": "stream",
          "name": "stdout",
          "text": [
            "update-alternatives: using /usr/lib/jvm/java-8-openjdk-amd64/jre/bin/java to provide /usr/bin/java (java) in manual mode\n",
            "openjdk version \"1.8.0_292\"\n",
            "OpenJDK Runtime Environment (build 1.8.0_292-8u292-b10-0ubuntu1~18.04-b10)\n",
            "OpenJDK 64-Bit Server VM (build 25.292-b10, mixed mode)\n",
            "Collecting pyspark\n",
            "  Downloading pyspark-3.1.2.tar.gz (212.4 MB)\n",
            "\u001b[K     |████████████████████████████████| 212.4 MB 56 kB/s \n",
            "\u001b[?25hCollecting py4j==0.10.9\n",
            "  Downloading py4j-0.10.9-py2.py3-none-any.whl (198 kB)\n",
            "\u001b[K     |████████████████████████████████| 198 kB 53.5 MB/s \n",
            "\u001b[?25hBuilding wheels for collected packages: pyspark\n",
            "  Building wheel for pyspark (setup.py) ... \u001b[?25l\u001b[?25hdone\n",
            "  Created wheel for pyspark: filename=pyspark-3.1.2-py2.py3-none-any.whl size=212880768 sha256=bddecc3639c7032d28dc38dca71a234d00de6482f376ba68c968b5c791a246c5\n",
            "  Stored in directory: /root/.cache/pip/wheels/a5/0a/c1/9561f6fecb759579a7d863dcd846daaa95f598744e71b02c77\n",
            "Successfully built pyspark\n",
            "Installing collected packages: py4j, pyspark\n",
            "Successfully installed py4j-0.10.9 pyspark-3.1.2\n"
          ]
        }
      ]
    },
    {
      "cell_type": "code",
      "metadata": {
        "id": "SfYFn5M3q9it"
      },
      "source": [
        "import requests\n",
        "import json\n",
        "import numpy as np\n",
        "import pandas as pd\n",
        "import matplotlib.pyplot as plt\n",
        "import seaborn as sns\n",
        "from pyspark import SparkContext\n",
        "from pyspark.sql import SparkSession\n",
        "spark = SparkSession.Builder().appName(\"DataFrame Introduction\").getOrCreate()\n",
        "from pyspark.sql.functions import UserDefinedFunction\n",
        "from pyspark.sql.types import StringType\n",
        "from io import StringIO"
      ],
      "execution_count": 2,
      "outputs": []
    },
    {
      "cell_type": "markdown",
      "metadata": {
        "id": "DNHM39hBLyt5"
      },
      "source": [
        "# **CRYPTINGUP üzerinden ASSETS ve MARKETS verilerinin alınması**"
      ]
    },
    {
      "cell_type": "code",
      "metadata": {
        "id": "md0mDU7irATy"
      },
      "source": [
        "f_vrl = requests.get('https://www.cryptingup.com/api/assets?size=1000')\n",
        "\n",
        "v = f_vrl.json()\n",
        "\n",
        "varl = v['assets']"
      ],
      "execution_count": 3,
      "outputs": []
    },
    {
      "cell_type": "code",
      "metadata": {
        "id": "8e9Qh9yIrFHm"
      },
      "source": [
        "f_mrk = requests.get('https://www.cryptingup.com/api/assets/USD/markets?size=1000')\n",
        "\n",
        "mrk = f_mrk.json()\n",
        "\n",
        "mrkt = mrk['markets']"
      ],
      "execution_count": 4,
      "outputs": []
    },
    {
      "cell_type": "code",
      "metadata": {
        "colab": {
          "base_uri": "https://localhost:8080/",
          "height": 49
        },
        "id": "MRQFlSkTrK2Z",
        "outputId": "c175587a-6c8c-421d-d962-d1e032ab72a2"
      },
      "source": [
        "pd_vrl = pd.DataFrame(columns=[\"AssetId\",\"Name\",\"Price\",\"Volume24h\",\"Change1h\",\"Change24h\",\"Change7g\",\"Status\",\"CreatedAt\",\"UpdatedAt\"])\n",
        "pd_vrl.head()"
      ],
      "execution_count": 5,
      "outputs": [
        {
          "output_type": "execute_result",
          "data": {
            "text/html": [
              "<div>\n",
              "<style scoped>\n",
              "    .dataframe tbody tr th:only-of-type {\n",
              "        vertical-align: middle;\n",
              "    }\n",
              "\n",
              "    .dataframe tbody tr th {\n",
              "        vertical-align: top;\n",
              "    }\n",
              "\n",
              "    .dataframe thead th {\n",
              "        text-align: right;\n",
              "    }\n",
              "</style>\n",
              "<table border=\"1\" class=\"dataframe\">\n",
              "  <thead>\n",
              "    <tr style=\"text-align: right;\">\n",
              "      <th></th>\n",
              "      <th>AssetId</th>\n",
              "      <th>Name</th>\n",
              "      <th>Price</th>\n",
              "      <th>Volume24h</th>\n",
              "      <th>Change1h</th>\n",
              "      <th>Change24h</th>\n",
              "      <th>Change7g</th>\n",
              "      <th>Status</th>\n",
              "      <th>CreatedAt</th>\n",
              "      <th>UpdatedAt</th>\n",
              "    </tr>\n",
              "  </thead>\n",
              "  <tbody>\n",
              "  </tbody>\n",
              "</table>\n",
              "</div>"
            ],
            "text/plain": [
              "Empty DataFrame\n",
              "Columns: [AssetId, Name, Price, Volume24h, Change1h, Change24h, Change7g, Status, CreatedAt, UpdatedAt]\n",
              "Index: []"
            ]
          },
          "metadata": {},
          "execution_count": 5
        }
      ]
    },
    {
      "cell_type": "code",
      "metadata": {
        "colab": {
          "base_uri": "https://localhost:8080/",
          "height": 49
        },
        "id": "ToJsAeBZrOs7",
        "outputId": "ddb9e1f0-98ab-48e7-f014-5d8fb01e7590"
      },
      "source": [
        "df_mrk = pd.DataFrame(columns=[\"ExchangeId\", \"Symbol\", \"BaseAsset\", \"QuoteAsset\", \"PriceUnconverted\", \"Price\", \"Change24h\", \"Spread\", \"Volume24h\", \"Status\", \"CreatedAt\", \"UpdatedAt\"])\n",
        "df_mrk.head()"
      ],
      "execution_count": 6,
      "outputs": [
        {
          "output_type": "execute_result",
          "data": {
            "text/html": [
              "<div>\n",
              "<style scoped>\n",
              "    .dataframe tbody tr th:only-of-type {\n",
              "        vertical-align: middle;\n",
              "    }\n",
              "\n",
              "    .dataframe tbody tr th {\n",
              "        vertical-align: top;\n",
              "    }\n",
              "\n",
              "    .dataframe thead th {\n",
              "        text-align: right;\n",
              "    }\n",
              "</style>\n",
              "<table border=\"1\" class=\"dataframe\">\n",
              "  <thead>\n",
              "    <tr style=\"text-align: right;\">\n",
              "      <th></th>\n",
              "      <th>ExchangeId</th>\n",
              "      <th>Symbol</th>\n",
              "      <th>BaseAsset</th>\n",
              "      <th>QuoteAsset</th>\n",
              "      <th>PriceUnconverted</th>\n",
              "      <th>Price</th>\n",
              "      <th>Change24h</th>\n",
              "      <th>Spread</th>\n",
              "      <th>Volume24h</th>\n",
              "      <th>Status</th>\n",
              "      <th>CreatedAt</th>\n",
              "      <th>UpdatedAt</th>\n",
              "    </tr>\n",
              "  </thead>\n",
              "  <tbody>\n",
              "  </tbody>\n",
              "</table>\n",
              "</div>"
            ],
            "text/plain": [
              "Empty DataFrame\n",
              "Columns: [ExchangeId, Symbol, BaseAsset, QuoteAsset, PriceUnconverted, Price, Change24h, Spread, Volume24h, Status, CreatedAt, UpdatedAt]\n",
              "Index: []"
            ]
          },
          "metadata": {},
          "execution_count": 6
        }
      ]
    },
    {
      "cell_type": "markdown",
      "metadata": {
        "id": "E6phZVCga1NY"
      },
      "source": [
        "# **ASSETS PD**"
      ]
    },
    {
      "cell_type": "code",
      "metadata": {
        "colab": {
          "base_uri": "https://localhost:8080/",
          "height": 419
        },
        "id": "MpdTj2BsrR1m",
        "outputId": "83e466c4-a5fb-4b51-9857-b54e576ad99c"
      },
      "source": [
        "for i in range(0, len(varl)):\n",
        "    currentItem=varl[i]\n",
        "    pd_vrl.loc[i]=[varl[i]['asset_id'], varl[i]['name'], varl[i]['price'], varl[i]['volume_24h'], varl[i]['change_1h'], varl[i]['change_24h'], varl[i]['change_7d'], varl[i]['status'], varl[i]['created_at'], varl[i]['updated_at']]\n",
        "pd_vrl.head(1000)"
      ],
      "execution_count": 7,
      "outputs": [
        {
          "output_type": "execute_result",
          "data": {
            "text/html": [
              "<div>\n",
              "<style scoped>\n",
              "    .dataframe tbody tr th:only-of-type {\n",
              "        vertical-align: middle;\n",
              "    }\n",
              "\n",
              "    .dataframe tbody tr th {\n",
              "        vertical-align: top;\n",
              "    }\n",
              "\n",
              "    .dataframe thead th {\n",
              "        text-align: right;\n",
              "    }\n",
              "</style>\n",
              "<table border=\"1\" class=\"dataframe\">\n",
              "  <thead>\n",
              "    <tr style=\"text-align: right;\">\n",
              "      <th></th>\n",
              "      <th>AssetId</th>\n",
              "      <th>Name</th>\n",
              "      <th>Price</th>\n",
              "      <th>Volume24h</th>\n",
              "      <th>Change1h</th>\n",
              "      <th>Change24h</th>\n",
              "      <th>Change7g</th>\n",
              "      <th>Status</th>\n",
              "      <th>CreatedAt</th>\n",
              "      <th>UpdatedAt</th>\n",
              "    </tr>\n",
              "  </thead>\n",
              "  <tbody>\n",
              "    <tr>\n",
              "      <th>0</th>\n",
              "      <td>USDT</td>\n",
              "      <td>Tether</td>\n",
              "      <td>0.999450</td>\n",
              "      <td>2.362444e+10</td>\n",
              "      <td>-0.061390</td>\n",
              "      <td>-0.084258</td>\n",
              "      <td>-0.168257</td>\n",
              "      <td>recent</td>\n",
              "      <td>2021-09-21T01:53:50</td>\n",
              "      <td>2021-10-15T06:09:40.107376</td>\n",
              "    </tr>\n",
              "    <tr>\n",
              "      <th>1</th>\n",
              "      <td>BTC</td>\n",
              "      <td>Bitcoin</td>\n",
              "      <td>59469.650306</td>\n",
              "      <td>1.008560e+10</td>\n",
              "      <td>-0.480420</td>\n",
              "      <td>2.602675</td>\n",
              "      <td>9.832869</td>\n",
              "      <td>recent</td>\n",
              "      <td>2021-09-21T01:27:16</td>\n",
              "      <td>2021-10-15T06:09:33.969614</td>\n",
              "    </tr>\n",
              "    <tr>\n",
              "      <th>2</th>\n",
              "      <td>ETH</td>\n",
              "      <td>Ethereum</td>\n",
              "      <td>3838.264815</td>\n",
              "      <td>6.188600e+09</td>\n",
              "      <td>0.240291</td>\n",
              "      <td>5.417045</td>\n",
              "      <td>7.127926</td>\n",
              "      <td>recent</td>\n",
              "      <td>2021-09-21T01:53:50</td>\n",
              "      <td>2021-10-15T06:09:35.239650</td>\n",
              "    </tr>\n",
              "    <tr>\n",
              "      <th>3</th>\n",
              "      <td>BUSD</td>\n",
              "      <td>Binance USD</td>\n",
              "      <td>0.998871</td>\n",
              "      <td>4.519983e+09</td>\n",
              "      <td>-0.150257</td>\n",
              "      <td>-0.112867</td>\n",
              "      <td>-0.177616</td>\n",
              "      <td>recent</td>\n",
              "      <td>2021-09-21T01:27:16</td>\n",
              "      <td>2021-10-15T06:09:34.088067</td>\n",
              "    </tr>\n",
              "    <tr>\n",
              "      <th>4</th>\n",
              "      <td>SHIB</td>\n",
              "      <td></td>\n",
              "      <td>0.000027</td>\n",
              "      <td>1.742401e+09</td>\n",
              "      <td>-0.617631</td>\n",
              "      <td>-9.339252</td>\n",
              "      <td>14.736387</td>\n",
              "      <td>recent</td>\n",
              "      <td>2021-09-21T01:53:50</td>\n",
              "      <td>2021-10-15T06:09:39.060903</td>\n",
              "    </tr>\n",
              "    <tr>\n",
              "      <th>...</th>\n",
              "      <td>...</td>\n",
              "      <td>...</td>\n",
              "      <td>...</td>\n",
              "      <td>...</td>\n",
              "      <td>...</td>\n",
              "      <td>...</td>\n",
              "      <td>...</td>\n",
              "      <td>...</td>\n",
              "      <td>...</td>\n",
              "      <td>...</td>\n",
              "    </tr>\n",
              "    <tr>\n",
              "      <th>995</th>\n",
              "      <td>LIVE</td>\n",
              "      <td></td>\n",
              "      <td>0.033270</td>\n",
              "      <td>2.404991e+02</td>\n",
              "      <td>-0.061405</td>\n",
              "      <td>11.356443</td>\n",
              "      <td>11.367619</td>\n",
              "      <td>recent</td>\n",
              "      <td>2021-09-21T01:53:50</td>\n",
              "      <td>2021-10-15T06:09:36.859395</td>\n",
              "    </tr>\n",
              "    <tr>\n",
              "      <th>996</th>\n",
              "      <td>LUCY</td>\n",
              "      <td></td>\n",
              "      <td>0.006484</td>\n",
              "      <td>2.290139e+02</td>\n",
              "      <td>-0.801657</td>\n",
              "      <td>1.705060</td>\n",
              "      <td>8.872001</td>\n",
              "      <td>recent</td>\n",
              "      <td>2021-09-21T01:53:50</td>\n",
              "      <td>2021-10-15T06:09:37.010674</td>\n",
              "    </tr>\n",
              "    <tr>\n",
              "      <th>997</th>\n",
              "      <td>PBTC35A</td>\n",
              "      <td></td>\n",
              "      <td>81.621415</td>\n",
              "      <td>2.220680e+02</td>\n",
              "      <td>-0.144256</td>\n",
              "      <td>-1.145034</td>\n",
              "      <td>13.978817</td>\n",
              "      <td>stale</td>\n",
              "      <td>2021-09-21T04:30:03</td>\n",
              "      <td>2021-10-13T07:55:35.615738</td>\n",
              "    </tr>\n",
              "    <tr>\n",
              "      <th>998</th>\n",
              "      <td>PUNK</td>\n",
              "      <td></td>\n",
              "      <td>399503.677687</td>\n",
              "      <td>2.168226e+02</td>\n",
              "      <td>-1.669487</td>\n",
              "      <td>-4.856968</td>\n",
              "      <td>-22.385726</td>\n",
              "      <td>recent</td>\n",
              "      <td>2021-09-21T01:53:50</td>\n",
              "      <td>2021-10-15T06:09:38.473422</td>\n",
              "    </tr>\n",
              "    <tr>\n",
              "      <th>999</th>\n",
              "      <td>TEMCO</td>\n",
              "      <td></td>\n",
              "      <td>0.006244</td>\n",
              "      <td>2.145383e+02</td>\n",
              "      <td>-0.480420</td>\n",
              "      <td>2.602675</td>\n",
              "      <td>0.282185</td>\n",
              "      <td>recent</td>\n",
              "      <td>2021-09-21T01:53:50</td>\n",
              "      <td>2021-10-15T06:09:39.605817</td>\n",
              "    </tr>\n",
              "  </tbody>\n",
              "</table>\n",
              "<p>1000 rows × 10 columns</p>\n",
              "</div>"
            ],
            "text/plain": [
              "     AssetId         Name  ...            CreatedAt                   UpdatedAt\n",
              "0       USDT       Tether  ...  2021-09-21T01:53:50  2021-10-15T06:09:40.107376\n",
              "1        BTC      Bitcoin  ...  2021-09-21T01:27:16  2021-10-15T06:09:33.969614\n",
              "2        ETH     Ethereum  ...  2021-09-21T01:53:50  2021-10-15T06:09:35.239650\n",
              "3       BUSD  Binance USD  ...  2021-09-21T01:27:16  2021-10-15T06:09:34.088067\n",
              "4       SHIB               ...  2021-09-21T01:53:50  2021-10-15T06:09:39.060903\n",
              "..       ...          ...  ...                  ...                         ...\n",
              "995     LIVE               ...  2021-09-21T01:53:50  2021-10-15T06:09:36.859395\n",
              "996     LUCY               ...  2021-09-21T01:53:50  2021-10-15T06:09:37.010674\n",
              "997  PBTC35A               ...  2021-09-21T04:30:03  2021-10-13T07:55:35.615738\n",
              "998     PUNK               ...  2021-09-21T01:53:50  2021-10-15T06:09:38.473422\n",
              "999    TEMCO               ...  2021-09-21T01:53:50  2021-10-15T06:09:39.605817\n",
              "\n",
              "[1000 rows x 10 columns]"
            ]
          },
          "metadata": {},
          "execution_count": 7
        }
      ]
    },
    {
      "cell_type": "markdown",
      "metadata": {
        "id": "KkYUGezia-DM"
      },
      "source": [
        "# **MARKETS PD**"
      ]
    },
    {
      "cell_type": "code",
      "metadata": {
        "colab": {
          "base_uri": "https://localhost:8080/",
          "height": 419
        },
        "id": "0nHoZuZxrWlD",
        "outputId": "548c8767-5302-415d-e188-3efed872ac68"
      },
      "source": [
        "for i in range(0, len(mrkt)):\n",
        "    currentItem=mrkt[i]\n",
        "    df_mrk.loc[i]=[mrkt[i]['exchange_id'], mrkt[i]['symbol'], mrkt[i]['base_asset'], mrkt[i]['quote_asset'], mrkt[i]['price_unconverted'], mrkt[i]['price'], mrkt[i]['change_24h'], mrkt[i]['spread'], mrkt[i]['volume_24h'], mrkt[i]['status'], mrkt[i]['created_at'], mrkt[i]['updated_at']]\n",
        "df_mrk.head(1000)"
      ],
      "execution_count": 8,
      "outputs": [
        {
          "output_type": "execute_result",
          "data": {
            "text/html": [
              "<div>\n",
              "<style scoped>\n",
              "    .dataframe tbody tr th:only-of-type {\n",
              "        vertical-align: middle;\n",
              "    }\n",
              "\n",
              "    .dataframe tbody tr th {\n",
              "        vertical-align: top;\n",
              "    }\n",
              "\n",
              "    .dataframe thead th {\n",
              "        text-align: right;\n",
              "    }\n",
              "</style>\n",
              "<table border=\"1\" class=\"dataframe\">\n",
              "  <thead>\n",
              "    <tr style=\"text-align: right;\">\n",
              "      <th></th>\n",
              "      <th>ExchangeId</th>\n",
              "      <th>Symbol</th>\n",
              "      <th>BaseAsset</th>\n",
              "      <th>QuoteAsset</th>\n",
              "      <th>PriceUnconverted</th>\n",
              "      <th>Price</th>\n",
              "      <th>Change24h</th>\n",
              "      <th>Spread</th>\n",
              "      <th>Volume24h</th>\n",
              "      <th>Status</th>\n",
              "      <th>CreatedAt</th>\n",
              "      <th>UpdatedAt</th>\n",
              "    </tr>\n",
              "  </thead>\n",
              "  <tbody>\n",
              "    <tr>\n",
              "      <th>0</th>\n",
              "      <td>COINBASE</td>\n",
              "      <td>BTC-USD</td>\n",
              "      <td>BTC</td>\n",
              "      <td>USD</td>\n",
              "      <td>59444.780000</td>\n",
              "      <td>59444.780000</td>\n",
              "      <td>3.050975</td>\n",
              "      <td>0.001716</td>\n",
              "      <td>9.322874e+08</td>\n",
              "      <td>recent</td>\n",
              "      <td>2021-09-21T01:21:25</td>\n",
              "      <td>2021-10-15T06:10:28.781301</td>\n",
              "    </tr>\n",
              "    <tr>\n",
              "      <th>1</th>\n",
              "      <td>COINBASE</td>\n",
              "      <td>ETH-USD</td>\n",
              "      <td>ETH</td>\n",
              "      <td>USD</td>\n",
              "      <td>3837.565000</td>\n",
              "      <td>3837.565000</td>\n",
              "      <td>5.820366</td>\n",
              "      <td>0.014331</td>\n",
              "      <td>8.232376e+08</td>\n",
              "      <td>recent</td>\n",
              "      <td>2021-09-21T01:21:25</td>\n",
              "      <td>2021-10-15T06:10:32.656082</td>\n",
              "    </tr>\n",
              "    <tr>\n",
              "      <th>2</th>\n",
              "      <td>COINBASE</td>\n",
              "      <td>SHIB-USD</td>\n",
              "      <td>SHIB</td>\n",
              "      <td>USD</td>\n",
              "      <td>0.000026</td>\n",
              "      <td>0.000026</td>\n",
              "      <td>-9.034696</td>\n",
              "      <td>0.075500</td>\n",
              "      <td>4.443034e+08</td>\n",
              "      <td>recent</td>\n",
              "      <td>2021-09-21T01:21:25</td>\n",
              "      <td>2021-10-15T06:10:28.774522</td>\n",
              "    </tr>\n",
              "    <tr>\n",
              "      <th>3</th>\n",
              "      <td>BITFINEX</td>\n",
              "      <td>BTC-USD</td>\n",
              "      <td>BTC</td>\n",
              "      <td>USD</td>\n",
              "      <td>59494.500000</td>\n",
              "      <td>59494.500000</td>\n",
              "      <td>2.461896</td>\n",
              "      <td>0.018487</td>\n",
              "      <td>3.813096e+08</td>\n",
              "      <td>recent</td>\n",
              "      <td>2021-09-21T01:21:25</td>\n",
              "      <td>2021-10-15T06:10:32.206184</td>\n",
              "    </tr>\n",
              "    <tr>\n",
              "      <th>4</th>\n",
              "      <td>COINBASE</td>\n",
              "      <td>SOL-USD</td>\n",
              "      <td>SOL</td>\n",
              "      <td>USD</td>\n",
              "      <td>156.909500</td>\n",
              "      <td>156.909500</td>\n",
              "      <td>3.859239</td>\n",
              "      <td>0.027401</td>\n",
              "      <td>1.928565e+08</td>\n",
              "      <td>recent</td>\n",
              "      <td>2021-09-21T01:21:25</td>\n",
              "      <td>2021-10-15T06:10:32.653747</td>\n",
              "    </tr>\n",
              "    <tr>\n",
              "      <th>...</th>\n",
              "      <td>...</td>\n",
              "      <td>...</td>\n",
              "      <td>...</td>\n",
              "      <td>...</td>\n",
              "      <td>...</td>\n",
              "      <td>...</td>\n",
              "      <td>...</td>\n",
              "      <td>...</td>\n",
              "      <td>...</td>\n",
              "      <td>...</td>\n",
              "      <td>...</td>\n",
              "      <td>...</td>\n",
              "    </tr>\n",
              "    <tr>\n",
              "      <th>478</th>\n",
              "      <td>BITTREX</td>\n",
              "      <td>SLV-USD</td>\n",
              "      <td>SLV</td>\n",
              "      <td>USD</td>\n",
              "      <td>21.742000</td>\n",
              "      <td>21.742000</td>\n",
              "      <td>-0.128617</td>\n",
              "      <td>0.696672</td>\n",
              "      <td>1.578811e+01</td>\n",
              "      <td>recent</td>\n",
              "      <td>2021-09-21T01:21:25</td>\n",
              "      <td>2021-10-15T06:10:30.839636</td>\n",
              "    </tr>\n",
              "    <tr>\n",
              "      <th>479</th>\n",
              "      <td>BITFINEX</td>\n",
              "      <td>DCR-USD</td>\n",
              "      <td>DCR</td>\n",
              "      <td>USD</td>\n",
              "      <td>124.395000</td>\n",
              "      <td>124.395000</td>\n",
              "      <td>-0.872579</td>\n",
              "      <td>2.327983</td>\n",
              "      <td>1.243950e+01</td>\n",
              "      <td>recent</td>\n",
              "      <td>2021-09-21T01:21:25</td>\n",
              "      <td>2021-10-15T06:10:32.269093</td>\n",
              "    </tr>\n",
              "    <tr>\n",
              "      <th>480</th>\n",
              "      <td>BITTREX</td>\n",
              "      <td>FB-USD</td>\n",
              "      <td>FB</td>\n",
              "      <td>USD</td>\n",
              "      <td>328.799000</td>\n",
              "      <td>328.799000</td>\n",
              "      <td>1.557968</td>\n",
              "      <td>0.547767</td>\n",
              "      <td>6.651150e+00</td>\n",
              "      <td>stale</td>\n",
              "      <td>2021-09-21T01:21:25</td>\n",
              "      <td>2021-10-14T16:53:31.509379</td>\n",
              "    </tr>\n",
              "    <tr>\n",
              "      <th>481</th>\n",
              "      <td>BITTREX</td>\n",
              "      <td>SQ-USD</td>\n",
              "      <td>SQ</td>\n",
              "      <td>USD</td>\n",
              "      <td>239.941500</td>\n",
              "      <td>239.941500</td>\n",
              "      <td>0.094905</td>\n",
              "      <td>1.491247</td>\n",
              "      <td>4.955121e+00</td>\n",
              "      <td>stale</td>\n",
              "      <td>2021-09-21T01:21:25</td>\n",
              "      <td>2021-10-02T10:53:40.908216</td>\n",
              "    </tr>\n",
              "    <tr>\n",
              "      <th>482</th>\n",
              "      <td>BITFINEX</td>\n",
              "      <td>EXO-USD</td>\n",
              "      <td>EXO</td>\n",
              "      <td>USD</td>\n",
              "      <td>1.000000</td>\n",
              "      <td>1.000000</td>\n",
              "      <td>0.000000</td>\n",
              "      <td>0.000000</td>\n",
              "      <td>1.000000e-01</td>\n",
              "      <td>recent</td>\n",
              "      <td>2021-09-21T01:21:25</td>\n",
              "      <td>2021-10-15T06:10:32.274007</td>\n",
              "    </tr>\n",
              "  </tbody>\n",
              "</table>\n",
              "<p>483 rows × 12 columns</p>\n",
              "</div>"
            ],
            "text/plain": [
              "    ExchangeId    Symbol  ...            CreatedAt                   UpdatedAt\n",
              "0     COINBASE   BTC-USD  ...  2021-09-21T01:21:25  2021-10-15T06:10:28.781301\n",
              "1     COINBASE   ETH-USD  ...  2021-09-21T01:21:25  2021-10-15T06:10:32.656082\n",
              "2     COINBASE  SHIB-USD  ...  2021-09-21T01:21:25  2021-10-15T06:10:28.774522\n",
              "3     BITFINEX   BTC-USD  ...  2021-09-21T01:21:25  2021-10-15T06:10:32.206184\n",
              "4     COINBASE   SOL-USD  ...  2021-09-21T01:21:25  2021-10-15T06:10:32.653747\n",
              "..         ...       ...  ...                  ...                         ...\n",
              "478    BITTREX   SLV-USD  ...  2021-09-21T01:21:25  2021-10-15T06:10:30.839636\n",
              "479   BITFINEX   DCR-USD  ...  2021-09-21T01:21:25  2021-10-15T06:10:32.269093\n",
              "480    BITTREX    FB-USD  ...  2021-09-21T01:21:25  2021-10-14T16:53:31.509379\n",
              "481    BITTREX    SQ-USD  ...  2021-09-21T01:21:25  2021-10-02T10:53:40.908216\n",
              "482   BITFINEX   EXO-USD  ...  2021-09-21T01:21:25  2021-10-15T06:10:32.274007\n",
              "\n",
              "[483 rows x 12 columns]"
            ]
          },
          "metadata": {},
          "execution_count": 8
        }
      ]
    },
    {
      "cell_type": "code",
      "metadata": {
        "id": "w-4uzVq1rcyz"
      },
      "source": [
        "pd_vrl[\"CreatedAt\"] = pd_vrl[\"CreatedAt\"].astype(\"datetime64\")\n",
        "pd_vrl[\"UpdatedAt\"] = pd_vrl[\"UpdatedAt\"].astype(\"datetime64\")\n",
        "df_mrk[\"CreatedAt\"] = df_mrk[\"CreatedAt\"].astype(\"datetime64\")\n",
        "df_mrk[\"UpdatedAt\"] = df_mrk[\"UpdatedAt\"].astype(\"datetime64\")"
      ],
      "execution_count": 9,
      "outputs": []
    },
    {
      "cell_type": "code",
      "metadata": {
        "colab": {
          "base_uri": "https://localhost:8080/"
        },
        "id": "0PNgpNrNrg6g",
        "outputId": "26428ce7-2b9c-4910-e085-a9283a667de0"
      },
      "source": [
        "pd_vrl.info()\n",
        "\n",
        "df_mrk.info()"
      ],
      "execution_count": 10,
      "outputs": [
        {
          "output_type": "stream",
          "name": "stdout",
          "text": [
            "<class 'pandas.core.frame.DataFrame'>\n",
            "Int64Index: 1000 entries, 0 to 999\n",
            "Data columns (total 10 columns):\n",
            " #   Column     Non-Null Count  Dtype         \n",
            "---  ------     --------------  -----         \n",
            " 0   AssetId    1000 non-null   object        \n",
            " 1   Name       1000 non-null   object        \n",
            " 2   Price      1000 non-null   float64       \n",
            " 3   Volume24h  1000 non-null   float64       \n",
            " 4   Change1h   1000 non-null   float64       \n",
            " 5   Change24h  1000 non-null   float64       \n",
            " 6   Change7g   1000 non-null   float64       \n",
            " 7   Status     1000 non-null   object        \n",
            " 8   CreatedAt  1000 non-null   datetime64[ns]\n",
            " 9   UpdatedAt  1000 non-null   datetime64[ns]\n",
            "dtypes: datetime64[ns](2), float64(5), object(3)\n",
            "memory usage: 85.9+ KB\n",
            "<class 'pandas.core.frame.DataFrame'>\n",
            "Int64Index: 483 entries, 0 to 482\n",
            "Data columns (total 12 columns):\n",
            " #   Column            Non-Null Count  Dtype         \n",
            "---  ------            --------------  -----         \n",
            " 0   ExchangeId        483 non-null    object        \n",
            " 1   Symbol            483 non-null    object        \n",
            " 2   BaseAsset         483 non-null    object        \n",
            " 3   QuoteAsset        483 non-null    object        \n",
            " 4   PriceUnconverted  483 non-null    float64       \n",
            " 5   Price             483 non-null    float64       \n",
            " 6   Change24h         483 non-null    float64       \n",
            " 7   Spread            483 non-null    float64       \n",
            " 8   Volume24h         483 non-null    float64       \n",
            " 9   Status            483 non-null    object        \n",
            " 10  CreatedAt         483 non-null    datetime64[ns]\n",
            " 11  UpdatedAt         483 non-null    datetime64[ns]\n",
            "dtypes: datetime64[ns](2), float64(5), object(5)\n",
            "memory usage: 49.1+ KB\n"
          ]
        }
      ]
    },
    {
      "cell_type": "code",
      "metadata": {
        "id": "DtQcvK_frtDO"
      },
      "source": [
        "#pd_vrl.to_excel(\"assets.xlsx\")"
      ],
      "execution_count": null,
      "outputs": []
    },
    {
      "cell_type": "code",
      "metadata": {
        "id": "5lVj0kOMr09D"
      },
      "source": [
        "#df_mrk.to_excel(\"markets.xlsx\")"
      ],
      "execution_count": null,
      "outputs": []
    },
    {
      "cell_type": "code",
      "metadata": {
        "colab": {
          "base_uri": "https://localhost:8080/"
        },
        "id": "oRi7i82Zr3lG",
        "outputId": "7ccd94da-ec3a-483c-b992-49ba8ec764db"
      },
      "source": [
        "sp_vrl_c=spark.createDataFrame(pd_vrl)\n",
        "\n",
        "type(sp_vrl_c)"
      ],
      "execution_count": 11,
      "outputs": [
        {
          "output_type": "execute_result",
          "data": {
            "text/plain": [
              "pyspark.sql.dataframe.DataFrame"
            ]
          },
          "metadata": {},
          "execution_count": 11
        }
      ]
    },
    {
      "cell_type": "code",
      "metadata": {
        "colab": {
          "base_uri": "https://localhost:8080/"
        },
        "id": "rr0SxtaXsaJq",
        "outputId": "47f9c4b6-a435-46fc-b29c-39d2d40441e7"
      },
      "source": [
        "df_mrk_sp=spark.createDataFrame(df_mrk)\n",
        "\n",
        "type(df_mrk_sp)"
      ],
      "execution_count": 12,
      "outputs": [
        {
          "output_type": "execute_result",
          "data": {
            "text/plain": [
              "pyspark.sql.dataframe.DataFrame"
            ]
          },
          "metadata": {},
          "execution_count": 12
        }
      ]
    },
    {
      "cell_type": "markdown",
      "metadata": {
        "id": "ahwqPM5rvnlX"
      },
      "source": [
        "# **ASSETS SP**"
      ]
    },
    {
      "cell_type": "code",
      "metadata": {
        "colab": {
          "base_uri": "https://localhost:8080/"
        },
        "id": "pTdkafqosjbq",
        "outputId": "89dcc9f2-116b-4122-9f0c-ad844734259f"
      },
      "source": [
        "sp_vrl_c.show()"
      ],
      "execution_count": 13,
      "outputs": [
        {
          "output_type": "stream",
          "name": "stdout",
          "text": [
            "+-------+-------------+-------------------+--------------------+--------------------+--------------------+--------------------+------+-------------------+--------------------+\n",
            "|AssetId|         Name|              Price|           Volume24h|            Change1h|           Change24h|            Change7g|Status|          CreatedAt|           UpdatedAt|\n",
            "+-------+-------------+-------------------+--------------------+--------------------+--------------------+--------------------+------+-------------------+--------------------+\n",
            "|   USDT|       Tether| 0.9994500289629874|2.362443657242877E10|-0.06138953484434906|-0.08425786130384894| -0.1682567617442756|recent|2021-09-21 01:53:50|2021-10-15 06:09:...|\n",
            "|    BTC|      Bitcoin|  59469.65030642628|1.008560053597274...| -0.4804197683578298|  2.6026748641235624|   9.832869286778276|recent|2021-09-21 01:27:16|2021-10-15 06:09:...|\n",
            "|    ETH|     Ethereum| 3838.2648152658703| 6.188600115394828E9| 0.24029103135340107|   5.417044896215519|   7.127925502408209|recent|2021-09-21 01:53:50|2021-10-15 06:09:...|\n",
            "|   BUSD|  Binance USD| 0.9988713318298142|4.5199832759746475E9| -0.1502567226128465|-0.11286681712940584|-0.17761647121360805|recent|2021-09-21 01:27:16|2021-10-15 06:09:...|\n",
            "|   SHIB|             |           2.655E-5|1.7424010780445414E9| -0.6176305446378412|  -9.339252176882361|  14.736387208297334|recent|2021-09-21 01:53:50|2021-10-15 06:09:...|\n",
            "|    DOT|     Polkadot|  41.07188627744509|1.6235117044542024E9| -1.7236534434988973|-0.08171709264268892|   21.20398681157047|recent|2021-09-21 01:27:16|2021-10-15 06:09:...|\n",
            "|    BNB| Binance Coin| 467.44686997436617|1.3285544847423832E9| 0.17942162917126434|  -1.413504873718931|  7.0779881286508735|recent|2021-09-21 01:27:16|2021-10-15 06:09:...|\n",
            "|    SOL|       Solana| 156.57688113934105|1.1237305562067854E9|  2.1046181968622686|   4.340211247020773|  1.5093785601863858|recent|2021-09-21 01:53:50|2021-10-15 06:09:...|\n",
            "|    AXS|Axie Infinity|  130.6057818968127| 8.439889750564271E8|  -2.964189231479068|   6.477138500538018|   7.341059188146784|recent|2021-09-21 01:27:16|2021-10-15 06:09:...|\n",
            "|    XRP|       Ripple| 1.1428217637807943| 7.968431476129308E8| 0.24155869662734422|   0.650115065866394|   7.023902463233325|recent|2021-09-21 01:53:50|2021-10-15 06:09:...|\n",
            "|    ADA|      Cardano|   2.20139659624013| 7.947814545029074E8|  0.6391223303095731|  1.2684866566659787| -2.9230087422204702|recent|2021-09-21 01:27:16|2021-10-15 06:10:...|\n",
            "|   USDC|     USD Coin| 0.9993544340705192| 5.752350750679511E8|-0.08392408113990563|-0.08980187495127888|-0.19989963714504713|recent|2021-09-21 01:53:50|2021-10-15 06:09:...|\n",
            "|   LINK|    Chainlink|  26.72707067715125| 5.692929875457624E8| -0.7548786227064217|  0.8854585695308695| 0.05350288939496387|recent|2021-09-21 01:53:50|2021-10-15 06:09:...|\n",
            "|   LUNA|        Terra|  37.90068690065984| 5.691292219884925E8|  0.7379253820905644|  0.7439648657697554| -19.296916739426507|recent|2021-09-21 01:53:50|2021-10-15 06:09:...|\n",
            "|  MATIC|Matic Network| 1.4191579015736855|  5.35903046211051E8|    3.33071425559912|  14.301724359367505|   9.252356118489063|recent|2021-09-21 01:53:50|2021-10-15 06:09:...|\n",
            "|    FIL|     Filecoin|   69.3643973548469|5.2176558258531094E8|-0.17273498321842784| -1.1414112522020983| -2.7086378784675147|recent|2021-09-21 01:53:50|2021-10-15 06:09:...|\n",
            "|    XBT|             |  59493.73875648922| 5.060548964284852E8| -0.4132144141176899|  2.6456949879281155|   9.903365961046124|recent|2021-09-21 01:53:50|2021-10-15 06:09:...|\n",
            "|    LTC|     Litecoin| 184.54014737607582| 4.955665455757661E8| -0.3666580407497883|   2.746573793546135|  3.8658936210765606|recent|2021-09-21 01:53:50|2021-10-15 06:09:...|\n",
            "|   DOGE|     Dogecoin|0.23455382820618287| 4.747221297801707E8| 0.48255203296716476| -0.7384913819650872|  -4.000952482417454|recent|2021-09-21 01:27:16|2021-10-15 06:09:...|\n",
            "|   ARPA|         ARPA| 0.1359476869525082| 4.421792964493794E8| -1.1635103824331254|-0.39150363670678817|   81.02647777041221|recent|2021-09-21 01:27:16|2021-10-15 06:09:...|\n",
            "+-------+-------------+-------------------+--------------------+--------------------+--------------------+--------------------+------+-------------------+--------------------+\n",
            "only showing top 20 rows\n",
            "\n"
          ]
        }
      ]
    },
    {
      "cell_type": "markdown",
      "metadata": {
        "id": "IySbY0jwvvyP"
      },
      "source": [
        "# **MARKETS SP**"
      ]
    },
    {
      "cell_type": "code",
      "metadata": {
        "colab": {
          "base_uri": "https://localhost:8080/"
        },
        "id": "8kJb6w8ispVN",
        "outputId": "4df489e3-cf8f-466f-a3e2-d4b7e59cd148"
      },
      "source": [
        "df_mrk_sp.show()"
      ],
      "execution_count": 14,
      "outputs": [
        {
          "output_type": "stream",
          "name": "stdout",
          "text": [
            "+----------+---------+---------+----------+--------------------+--------------------+--------------------+--------------------+--------------------+------+-------------------+--------------------+\n",
            "|ExchangeId|   Symbol|BaseAsset|QuoteAsset|    PriceUnconverted|               Price|           Change24h|              Spread|           Volume24h|Status|          CreatedAt|           UpdatedAt|\n",
            "+----------+---------+---------+----------+--------------------+--------------------+--------------------+--------------------+--------------------+------+-------------------+--------------------+\n",
            "|  COINBASE|  BTC-USD|      BTC|       USD|            59444.78|            59444.78|   3.050975447097611|0.001715863443519...| 9.322873936114968E8|recent|2021-09-21 01:21:25|2021-10-15 06:10:...|\n",
            "|  COINBASE|  ETH-USD|      ETH|       USD|            3837.565|            3837.565|   5.820366249458851|0.014330977841707363| 8.232375631665139E8|recent|2021-09-21 01:21:25|2021-10-15 06:10:...|\n",
            "|  COINBASE| SHIB-USD|     SHIB|       USD|2.647999999999999...|2.647999999999999...|  -9.034695980762637| 0.07550018875047115| 4.443033804961572E8|recent|2021-09-21 01:21:25|2021-10-15 06:10:...|\n",
            "|  BITFINEX|  BTC-USD|      BTC|       USD|             59494.5|             59494.5|    2.46189615086541|0.018487394957983194| 3.813096275620076E8|recent|2021-09-21 01:21:25|2021-10-15 06:10:...|\n",
            "|  COINBASE|  SOL-USD|      SOL|       USD|            156.9095|            156.9095|   3.859239205978329|0.027400577323796037|1.9285651055732602E8|recent|2021-09-21 01:21:25|2021-10-15 06:10:...|\n",
            "|    KRAKEN|  XBT-USD|      XBT|       USD|             59457.2|             59457.2|  2.5759047410379847| 0.01917161793320113|1.8743150592346486E8|recent|2021-09-21 01:21:25|2021-10-15 06:10:...|\n",
            "|  COINBASE|  DOT-USD|      DOT|       USD|             41.0225|             41.0225|-0.03289794326932574|0.002437656924176...|   1.5489362370019E8|recent|2021-09-21 01:21:25|2021-10-15 06:10:...|\n",
            "|    KRAKEN| USDT-USD|     USDT|       USD|              1.0001|              1.0001|0.009999999999998899| 0.01999600079983783|1.4468432548501325E8|recent|2021-09-21 01:21:25|2021-10-15 06:10:...|\n",
            "|  COINBASE|  ADA-USD|      ADA|       USD|             2.20245|             2.20245|  1.0669052863436121|0.013620266957220782|1.3674677451593548E8|recent|2021-09-21 01:21:25|2021-10-15 06:10:...|\n",
            "|  BITFINEX|  ETH-USD|      ETH|       USD|             3838.45|             3838.45|   5.191833379007942|0.002605184316788...|1.1172083529968606E8|recent|2021-09-21 01:21:25|2021-10-15 06:10:...|\n",
            "|    KRAKEN|  ETH-USD|      ETH|       USD|            3838.575|            3838.575|   5.397735853201136|2.605130021977797E-4|1.1028842906374992E8|recent|2021-09-21 01:21:25|2021-10-15 06:10:...|\n",
            "|  COINBASE| LINK-USD|     LINK|       USD|  26.708370000000002|  26.708370000000002|-0.49820990160977113| 0.03294304559204177| 9.761900875280191E7|recent|2021-09-21 01:21:25|2021-10-15 06:10:...|\n",
            "|  COINBASE|MATIC-USD|    MATIC|       USD|             1.41125|             1.41125|  13.810483870967735|  0.0637529220089184| 8.985461124074998E7|recent|2021-09-21 01:21:25|2021-10-15 06:10:...|\n",
            "|  COINBASE|  LTC-USD|      LTC|       USD|             184.405|             184.405|  2.8414477720149454|0.005422699419766231|  7.90510307689569E7|recent|2021-09-21 01:21:25|2021-10-15 06:10:...|\n",
            "|  COINBASE|  AXS-USD|      AXS|       USD|             130.565|             130.565|   7.143443295585096| 0.14541558242767313|    7.091320858728E7|recent|2021-09-21 01:21:25|2021-10-15 06:10:...|\n",
            "|  COINBASE|   NU-USD|       NU|       USD|  0.5481499999999999|  0.5481499999999999|   88.75688705234157|  0.5639439694378737| 6.584653358941922E7|recent|2021-09-21 01:21:25|2021-10-15 06:10:...|\n",
            "|  COINBASE| DOGE-USD|     DOGE|       USD| 0.23475000000000001| 0.23475000000000001| -0.4874947011445462|0.042589437819427915|5.2880688458850004E7|recent|2021-09-21 01:21:25|2021-10-15 06:10:...|\n",
            "|  COINBASE| ATOM-USD|     ATOM|       USD|  33.956500000000005|  33.956500000000005| -0.7003743127850992| 0.05005152362727223| 5.190270380205001E7|recent|2021-09-21 01:21:25|2021-10-15 06:10:...|\n",
            "|  BITFINEX|  UST-USD|      UST|       USD|             1.00015|             1.00015|0.004999500050005...|0.009998000399918916|5.1069267636240155E7|recent|2021-09-21 01:21:25|2021-10-15 06:10:...|\n",
            "|  COINBASE|  XLM-USD|      XLM|       USD|            0.368154|            0.368154| -1.8407819590570047| 0.03802033544798098|   5.0515725386088E7|recent|2021-09-21 01:21:25|2021-10-15 06:10:...|\n",
            "+----------+---------+---------+----------+--------------------+--------------------+--------------------+--------------------+--------------------+------+-------------------+--------------------+\n",
            "only showing top 20 rows\n",
            "\n"
          ]
        }
      ]
    },
    {
      "cell_type": "markdown",
      "metadata": {
        "id": "Vr7kPV_3u4GL"
      },
      "source": [
        "# **Fiyat değişimi son 1 saat ve 24 saat içinde %10 oranında düşen varlıklar**"
      ]
    },
    {
      "cell_type": "code",
      "metadata": {
        "colab": {
          "base_uri": "https://localhost:8080/"
        },
        "id": "OfAkilAHsydg",
        "outputId": "79236ed5-f4f6-49ec-e1b6-d04fa7ec5576"
      },
      "source": [
        "sp_vrl_c.createOrReplaceTempView(\"assets\")\n",
        "\n",
        "data_assets = spark.sql(\"select row_number() over(order by assetid) as sira,assetid,name,price,change1h,change24h,updatedat from assets where Change1h<=-10 or Change24h<=-10 order by assetid\")\n",
        "\n",
        "data_assets.show(1000)"
      ],
      "execution_count": 15,
      "outputs": [
        {
          "output_type": "stream",
          "name": "stdout",
          "text": [
            "+----+---------+--------------+--------------------+--------------------+-------------------+--------------------+\n",
            "|sira|  assetid|          name|               price|            change1h|          change24h|           updatedat|\n",
            "+----+---------+--------------+--------------------+--------------------+-------------------+--------------------+\n",
            "|   1|1INCHDOWN|              | 0.02806268182695548| -0.6422793937997965|-15.589472608647881|2021-10-15 06:10:...|\n",
            "|   2|    BCH3S|              |1.383238840084774...| 0.04704295390626562| -16.09017771847362|2021-10-15 06:09:...|\n",
            "|   3|  BCHBEAR|              |1.175103371553232...| 0.16009994834996036|-16.458587811426543|2021-10-15 06:09:...|\n",
            "|   4|  BCHDOWN|              |  0.2076357435170606| -0.1815080570380517|-12.691922484483179|2021-10-15 06:09:...|\n",
            "|   5|      BEL|Bella Protocol|  2.7274231101649677| -1.6389324906124578|-16.099540671148045|2021-10-15 06:09:...|\n",
            "|   6|      BNA|              | 0.00928988801921097| -11.277040661545184| -61.33568596256532|2021-10-15 06:09:...|\n",
            "|   7|      BUT|              |7.916273926324119E-4|  -12.57755682970233|  -9.81096530370885|2021-10-15 06:09:...|\n",
            "|   8|     COOL|              |   33888.99058884705|  -6.687143013222302|-17.630411830451333|2021-10-15 06:09:...|\n",
            "|   9|    CURIO|              | 0.20495721743943984| -10.761948758645515| 25.614187586871758|2021-10-15 06:09:...|\n",
            "|  10|     DATX|              | 5.91829520829224E-4|  -1.917120668582772|-11.303735693250912|2021-10-15 06:09:...|\n",
            "|  11|    ETH3S|         ETH3S|4.440606451184001E-6| -0.8911906194498486|-18.830790954923224|2021-10-15 06:09:...|\n",
            "|  12|  ETHDOWN|       ETHDOWN|  0.8775171254295029| -0.6835314222901443|-13.013364801412767|2021-10-15 06:09:...|\n",
            "|  13|    GLYPH|              |   1366419.057223395|-0.06138953484435...|-10.271433403012814|2021-10-15 06:09:...|\n",
            "|  14|     GPYX|              | 0.05482585031481598|  -1.602722290913379|-12.662583268300054|2021-10-15 06:09:...|\n",
            "|  15|      GST|              |   0.389127115228091| -3.2818435654349933| -14.65427103204198|2021-10-15 06:09:...|\n",
            "|  16|    HYDRO|              | 0.01903028809805641|   4.413985816804898|-11.262551468866112|2021-10-15 06:09:...|\n",
            "|  17|      ICE|              |  13.767499999999998|  -2.974030092674177| -21.17993931413523|2021-10-15 06:09:...|\n",
            "|  18|      IIC|              |6.223803188323974E-5|   1.353949554423577| -10.32580450151652|2021-10-15 06:09:...|\n",
            "|  19|    JASMY|              |0.060549785781401085|    -5.7588860708209| -20.67575098737508|2021-10-15 06:09:...|\n",
            "|  20|      LUN|              | 0.15705729105495167|   -9.42510382900675|-15.379425324305931|2021-09-26 08:10:...|\n",
            "|  21|     MEME|              |   5.588135138683798|  0.3476945742472199| -53.05780085643198|2021-10-15 06:09:...|\n",
            "|  22|      MEX|              |1.784089509192788...| -13.461234581180722|-14.497770946563701|2021-10-15 06:09:...|\n",
            "|  23|       OM|    MANTRA DAO| 0.23550348731215248| -13.686406495904183|   5.38286596014616|2021-10-15 06:09:...|\n",
            "|  24|      OST|              |0.006731621110646671|  -4.934629802425018| -12.46749588297936|2021-09-26 08:10:...|\n",
            "|  25|       PC|              |3.038762173786486...|  0.9994711912354928|-16.735294101213174|2021-10-15 06:09:...|\n",
            "|  26|     PPAY|              | 0.10994586893180586| -0.5096234858191011|-13.690302238860275|2021-10-15 06:09:...|\n",
            "|  27|      PRT|              |0.013327666136221437| -0.9527037864845292|  -29.2793831518305|2021-10-15 06:09:...|\n",
            "|  28|      SFP|       SafePal|   2.200028622818743|  -1.674125431028127|-22.130650360249735|2021-10-15 06:09:...|\n",
            "|  29|     STPT|              | 0.16614289508972738| -0.3769889638218176|-14.566982699249165|2021-10-15 06:09:...|\n",
            "|  30|SUSHIDOWN|              |   35.47947657815709| -0.6491155478293997|-10.280928069066123|2021-10-15 06:09:...|\n",
            "|  31|    UNI2S|              | 0.21913041830016394|  -1.179843806858078|-13.653495070470258|2021-10-15 06:09:...|\n",
            "|  32|  UNIDOWN|              |  1.9534250816081586| -0.9984722989626602|-14.908358165541785|2021-10-15 06:09:...|\n",
            "|  33|      UPP|              | 0.21438808935466672| -10.975660859784131| -24.43664088147795|2021-10-15 06:09:...|\n",
            "|  34|     WABI|              |   0.245507778273854|0.008629823018298781| -12.77841574361559|2021-10-15 06:09:...|\n",
            "|  35|    WXBTC|              |   0.378088105404938|  -6.476960346762365|-18.570213251974327|2021-10-15 06:09:...|\n",
            "|  36|       ZK|              |  11.235817225601906|-0.11025927101311857|-23.590845677138713|2021-10-15 06:09:...|\n",
            "+----+---------+--------------+--------------------+--------------------+-------------------+--------------------+\n",
            "\n"
          ]
        }
      ]
    },
    {
      "cell_type": "markdown",
      "metadata": {
        "id": "nXdh1nTfyfzu"
      },
      "source": [
        "# **Son 24 saat içerisinde en fazla kazanan ve kaybeden varlık**"
      ]
    },
    {
      "cell_type": "code",
      "metadata": {
        "colab": {
          "base_uri": "https://localhost:8080/"
        },
        "id": "m4RJPbetwRCD",
        "outputId": "dbf3c3a2-79c1-454d-e2a6-73c6f1d56dc3"
      },
      "source": [
        "sp_vrl_c.createOrReplaceTempView(\"assets\")\n",
        "\n",
        "max_assets = spark.sql(\"select 'En çok kazanan'as comment,assetid,name,price,change24h,updatedat from assets where change24h = (select max(change24h) from assets)\")\n",
        "\n",
        "max_assets.show()\n",
        "\n",
        "min_assets = spark.sql(\"select 'En çok kaybeden'as comment,assetid,name,price,change24h,updatedat from assets where change24h = (select min(change24h) from assets)\")\n",
        "\n",
        "min_assets.show()\n"
      ],
      "execution_count": 16,
      "outputs": [
        {
          "output_type": "stream",
          "name": "stdout",
          "text": [
            "+--------------+-------+----+-------------------+------------------+--------------------+\n",
            "|       comment|assetid|name|              price|         change24h|           updatedat|\n",
            "+--------------+-------+----+-------------------+------------------+--------------------+\n",
            "|En çok kazanan|    GET|    |0.02857724200093123|2978.3990754579877|2021-10-15 06:09:...|\n",
            "+--------------+-------+----+-------------------+------------------+--------------------+\n",
            "\n",
            "+---------------+-------+----+-------------------+------------------+--------------------+\n",
            "|        comment|assetid|name|              price|         change24h|           updatedat|\n",
            "+---------------+-------+----+-------------------+------------------+--------------------+\n",
            "|En çok kaybeden|    BNA|    |0.00928988801921097|-61.33568596256532|2021-10-15 06:09:...|\n",
            "+---------------+-------+----+-------------------+------------------+--------------------+\n",
            "\n"
          ]
        }
      ]
    },
    {
      "cell_type": "markdown",
      "metadata": {
        "id": "xRMDwTF6GUNH"
      },
      "source": [
        "# **1 Haftalık MARKETS veri yüklenmesi**"
      ]
    },
    {
      "cell_type": "code",
      "metadata": {
        "colab": {
          "resources": {
            "http://localhost:8080/nbextensions/google.colab/files.js": {
              "data": "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",
              "ok": true,
              "headers": [
                [
                  "content-type",
                  "application/javascript"
                ]
              ],
              "status": 200,
              "status_text": ""
            }
          },
          "base_uri": "https://localhost:8080/",
          "height": 72
        },
        "id": "pIR_Xl_BAYPU",
        "outputId": "07d33a0d-4c57-4da8-af08-1f98305918fe"
      },
      "source": [
        "from google.colab import files\n",
        "uploaded = files.upload()"
      ],
      "execution_count": 17,
      "outputs": [
        {
          "output_type": "display_data",
          "data": {
            "text/html": [
              "\n",
              "     <input type=\"file\" id=\"files-75cca266-308d-4f7e-8cd7-e0f882ff0a2c\" name=\"files[]\" multiple disabled\n",
              "        style=\"border:none\" />\n",
              "     <output id=\"result-75cca266-308d-4f7e-8cd7-e0f882ff0a2c\">\n",
              "      Upload widget is only available when the cell has been executed in the\n",
              "      current browser session. Please rerun this cell to enable.\n",
              "      </output>\n",
              "      <script src=\"/nbextensions/google.colab/files.js\"></script> "
            ],
            "text/plain": [
              "<IPython.core.display.HTML object>"
            ]
          },
          "metadata": {}
        },
        {
          "output_type": "stream",
          "name": "stdout",
          "text": [
            "Saving markets_5d.xlsx to markets_5d.xlsx\n"
          ]
        }
      ]
    },
    {
      "cell_type": "code",
      "metadata": {
        "colab": {
          "base_uri": "https://localhost:8080/",
          "height": 419
        },
        "id": "TU8SHJrdAhtZ",
        "outputId": "141f32b4-9d2a-4201-8762-d999dd64b2e4"
      },
      "source": [
        "import io\n",
        "data_market = pd.read_excel(io.BytesIO(uploaded['markets_5d.xlsx']))\n",
        "data_market"
      ],
      "execution_count": 18,
      "outputs": [
        {
          "output_type": "execute_result",
          "data": {
            "text/html": [
              "<div>\n",
              "<style scoped>\n",
              "    .dataframe tbody tr th:only-of-type {\n",
              "        vertical-align: middle;\n",
              "    }\n",
              "\n",
              "    .dataframe tbody tr th {\n",
              "        vertical-align: top;\n",
              "    }\n",
              "\n",
              "    .dataframe thead th {\n",
              "        text-align: right;\n",
              "    }\n",
              "</style>\n",
              "<table border=\"1\" class=\"dataframe\">\n",
              "  <thead>\n",
              "    <tr style=\"text-align: right;\">\n",
              "      <th></th>\n",
              "      <th>ExchangeId</th>\n",
              "      <th>Symbol</th>\n",
              "      <th>BaseAsset</th>\n",
              "      <th>QuoteAsset</th>\n",
              "      <th>PriceUnconverted</th>\n",
              "      <th>Price</th>\n",
              "      <th>Change24h</th>\n",
              "      <th>Spread</th>\n",
              "      <th>Volume24h</th>\n",
              "      <th>Status</th>\n",
              "      <th>CreatedAt</th>\n",
              "      <th>UpdatedAt</th>\n",
              "    </tr>\n",
              "  </thead>\n",
              "  <tbody>\n",
              "    <tr>\n",
              "      <th>0</th>\n",
              "      <td>BITFINEX</td>\n",
              "      <td>NEC-USD</td>\n",
              "      <td>NEC</td>\n",
              "      <td>USD</td>\n",
              "      <td>0.079417</td>\n",
              "      <td>0.079417</td>\n",
              "      <td>0.429328</td>\n",
              "      <td>3.504757</td>\n",
              "      <td>44564.048303</td>\n",
              "      <td>stale</td>\n",
              "      <td>2021-09-21 01:21:25</td>\n",
              "      <td>2021-10-07 14:17:46</td>\n",
              "    </tr>\n",
              "    <tr>\n",
              "      <th>1</th>\n",
              "      <td>BITFINEX</td>\n",
              "      <td>RRB-USD</td>\n",
              "      <td>RRB</td>\n",
              "      <td>USD</td>\n",
              "      <td>1.000550</td>\n",
              "      <td>1.000550</td>\n",
              "      <td>0.024993</td>\n",
              "      <td>0.089910</td>\n",
              "      <td>628.392095</td>\n",
              "      <td>stale</td>\n",
              "      <td>2021-09-21 01:21:25</td>\n",
              "      <td>2021-10-07 14:17:46</td>\n",
              "    </tr>\n",
              "    <tr>\n",
              "      <th>2</th>\n",
              "      <td>BITFINEX</td>\n",
              "      <td>NEC-USD</td>\n",
              "      <td>NEC</td>\n",
              "      <td>USD</td>\n",
              "      <td>0.079417</td>\n",
              "      <td>0.079417</td>\n",
              "      <td>0.429328</td>\n",
              "      <td>3.504757</td>\n",
              "      <td>44564.048303</td>\n",
              "      <td>stale</td>\n",
              "      <td>2021-09-21 01:21:25</td>\n",
              "      <td>2021-10-07 14:17:46</td>\n",
              "    </tr>\n",
              "    <tr>\n",
              "      <th>3</th>\n",
              "      <td>BITFINEX</td>\n",
              "      <td>RRB-USD</td>\n",
              "      <td>RRB</td>\n",
              "      <td>USD</td>\n",
              "      <td>1.000550</td>\n",
              "      <td>1.000550</td>\n",
              "      <td>0.024993</td>\n",
              "      <td>0.089910</td>\n",
              "      <td>628.392095</td>\n",
              "      <td>stale</td>\n",
              "      <td>2021-09-21 01:21:25</td>\n",
              "      <td>2021-10-07 14:17:46</td>\n",
              "    </tr>\n",
              "    <tr>\n",
              "      <th>4</th>\n",
              "      <td>BITFINEX</td>\n",
              "      <td>NEC-USD</td>\n",
              "      <td>NEC</td>\n",
              "      <td>USD</td>\n",
              "      <td>0.079417</td>\n",
              "      <td>0.079417</td>\n",
              "      <td>0.429328</td>\n",
              "      <td>3.504757</td>\n",
              "      <td>44564.048303</td>\n",
              "      <td>stale</td>\n",
              "      <td>2021-09-21 01:21:25</td>\n",
              "      <td>2021-10-07 14:17:46</td>\n",
              "    </tr>\n",
              "    <tr>\n",
              "      <th>...</th>\n",
              "      <td>...</td>\n",
              "      <td>...</td>\n",
              "      <td>...</td>\n",
              "      <td>...</td>\n",
              "      <td>...</td>\n",
              "      <td>...</td>\n",
              "      <td>...</td>\n",
              "      <td>...</td>\n",
              "      <td>...</td>\n",
              "      <td>...</td>\n",
              "      <td>...</td>\n",
              "      <td>...</td>\n",
              "    </tr>\n",
              "    <tr>\n",
              "      <th>9627</th>\n",
              "      <td>KRAKEN</td>\n",
              "      <td>QTUM-USD</td>\n",
              "      <td>QTUM</td>\n",
              "      <td>USD</td>\n",
              "      <td>13.289950</td>\n",
              "      <td>13.289950</td>\n",
              "      <td>0.991606</td>\n",
              "      <td>0.084539</td>\n",
              "      <td>950986.664703</td>\n",
              "      <td>recent</td>\n",
              "      <td>2021-09-21 01:21:25</td>\n",
              "      <td>2021-10-15 17:45:33</td>\n",
              "    </tr>\n",
              "    <tr>\n",
              "      <th>9628</th>\n",
              "      <td>KRAKEN</td>\n",
              "      <td>MANA-USD</td>\n",
              "      <td>MANA</td>\n",
              "      <td>USD</td>\n",
              "      <td>0.779465</td>\n",
              "      <td>0.779465</td>\n",
              "      <td>3.576507</td>\n",
              "      <td>0.083356</td>\n",
              "      <td>475999.588486</td>\n",
              "      <td>recent</td>\n",
              "      <td>2021-09-21 01:21:25</td>\n",
              "      <td>2021-10-15 17:45:33</td>\n",
              "    </tr>\n",
              "    <tr>\n",
              "      <th>9629</th>\n",
              "      <td>KRAKEN</td>\n",
              "      <td>AUD-USD</td>\n",
              "      <td>AUD</td>\n",
              "      <td>USD</td>\n",
              "      <td>0.739655</td>\n",
              "      <td>0.739655</td>\n",
              "      <td>0.346629</td>\n",
              "      <td>0.036497</td>\n",
              "      <td>458629.680693</td>\n",
              "      <td>recent</td>\n",
              "      <td>2021-09-21 01:21:25</td>\n",
              "      <td>2021-10-15 17:45:33</td>\n",
              "    </tr>\n",
              "    <tr>\n",
              "      <th>9630</th>\n",
              "      <td>KRAKEN</td>\n",
              "      <td>ANT-USD</td>\n",
              "      <td>ANT</td>\n",
              "      <td>USD</td>\n",
              "      <td>4.614800</td>\n",
              "      <td>4.614800</td>\n",
              "      <td>3.156295</td>\n",
              "      <td>0.255373</td>\n",
              "      <td>211171.451729</td>\n",
              "      <td>recent</td>\n",
              "      <td>2021-09-21 01:21:25</td>\n",
              "      <td>2021-10-15 17:45:33</td>\n",
              "    </tr>\n",
              "    <tr>\n",
              "      <th>9631</th>\n",
              "      <td>KRAKEN</td>\n",
              "      <td>KAR-USD</td>\n",
              "      <td>KAR</td>\n",
              "      <td>USD</td>\n",
              "      <td>8.083500</td>\n",
              "      <td>8.083500</td>\n",
              "      <td>0.892411</td>\n",
              "      <td>0.702663</td>\n",
              "      <td>208008.754059</td>\n",
              "      <td>recent</td>\n",
              "      <td>2021-09-21 01:21:25</td>\n",
              "      <td>2021-10-15 17:45:33</td>\n",
              "    </tr>\n",
              "  </tbody>\n",
              "</table>\n",
              "<p>9632 rows × 12 columns</p>\n",
              "</div>"
            ],
            "text/plain": [
              "     ExchangeId    Symbol  ...           CreatedAt           UpdatedAt\n",
              "0      BITFINEX   NEC-USD  ... 2021-09-21 01:21:25 2021-10-07 14:17:46\n",
              "1      BITFINEX   RRB-USD  ... 2021-09-21 01:21:25 2021-10-07 14:17:46\n",
              "2      BITFINEX   NEC-USD  ... 2021-09-21 01:21:25 2021-10-07 14:17:46\n",
              "3      BITFINEX   RRB-USD  ... 2021-09-21 01:21:25 2021-10-07 14:17:46\n",
              "4      BITFINEX   NEC-USD  ... 2021-09-21 01:21:25 2021-10-07 14:17:46\n",
              "...         ...       ...  ...                 ...                 ...\n",
              "9627     KRAKEN  QTUM-USD  ... 2021-09-21 01:21:25 2021-10-15 17:45:33\n",
              "9628     KRAKEN  MANA-USD  ... 2021-09-21 01:21:25 2021-10-15 17:45:33\n",
              "9629     KRAKEN   AUD-USD  ... 2021-09-21 01:21:25 2021-10-15 17:45:33\n",
              "9630     KRAKEN   ANT-USD  ... 2021-09-21 01:21:25 2021-10-15 17:45:33\n",
              "9631     KRAKEN   KAR-USD  ... 2021-09-21 01:21:25 2021-10-15 17:45:33\n",
              "\n",
              "[9632 rows x 12 columns]"
            ]
          },
          "metadata": {},
          "execution_count": 18
        }
      ]
    },
    {
      "cell_type": "code",
      "metadata": {
        "colab": {
          "base_uri": "https://localhost:8080/"
        },
        "id": "WwmhxVB0A-_N",
        "outputId": "42c1536c-4ade-4377-a194-a85020d86619"
      },
      "source": [
        "cb_btc=data_market[(data_market['ExchangeId']==\"COINBASE\")]\n",
        "type(cb_btc)"
      ],
      "execution_count": 19,
      "outputs": [
        {
          "output_type": "execute_result",
          "data": {
            "text/plain": [
              "pandas.core.frame.DataFrame"
            ]
          },
          "metadata": {},
          "execution_count": 19
        }
      ]
    },
    {
      "cell_type": "code",
      "metadata": {
        "colab": {
          "base_uri": "https://localhost:8080/"
        },
        "id": "2PC0Zzp-Ci1k",
        "outputId": "a4f059fd-dd70-4583-aab9-1dc0daee3499"
      },
      "source": [
        "cb_btc_sp=spark.createDataFrame(cb_btc)\n",
        "type(cb_btc_sp)"
      ],
      "execution_count": 20,
      "outputs": [
        {
          "output_type": "execute_result",
          "data": {
            "text/plain": [
              "pyspark.sql.dataframe.DataFrame"
            ]
          },
          "metadata": {},
          "execution_count": 20
        }
      ]
    },
    {
      "cell_type": "markdown",
      "metadata": {
        "id": "m59WJqJuG_iI"
      },
      "source": [
        "# **COINBASE üzerinden takip edilen varlık bilgilerinin haftalık Max/Min değerleri**"
      ]
    },
    {
      "cell_type": "code",
      "metadata": {
        "colab": {
          "base_uri": "https://localhost:8080/"
        },
        "id": "LDT8096vC7A6",
        "outputId": "d22df186-8a4b-43b9-a0cb-a2b560e860d1"
      },
      "source": [
        "cb_btc_sp.createOrReplaceTempView(\"coinbase\")\n",
        "\n",
        "data_coinbase = spark.sql(\"select exchangeid,symbol,baseasset,min(price) as min_price,max(price) as max_price from coinbase where baseasset in ('YFII','ETH','MKR','BCH', 'COMP') group by exchangeid,symbol,baseasset order by baseasset\")\n",
        "\n",
        "data_coinbase.show()\n"
      ],
      "execution_count": 21,
      "outputs": [
        {
          "output_type": "stream",
          "name": "stdout",
          "text": [
            "+----------+--------+---------+---------+---------+\n",
            "|exchangeid|  symbol|baseasset|min_price|max_price|\n",
            "+----------+--------+---------+---------+---------+\n",
            "|  COINBASE| BCH-USD|      BCH|  572.725|   604.75|\n",
            "|  COINBASE|COMP-USD|     COMP|  289.795|   318.85|\n",
            "|  COINBASE| ETH-USD|      ETH| 3422.895| 3809.585|\n",
            "|  COINBASE| MKR-USD|      MKR|2377.1244|2601.1091|\n",
            "|  COINBASE|YFII-USD|     YFII|  3707.98|  4040.86|\n",
            "+----------+--------+---------+---------+---------+\n",
            "\n"
          ]
        }
      ]
    },
    {
      "cell_type": "markdown",
      "metadata": {
        "id": "N94GiHZXLKVw"
      },
      "source": [
        "# **COINBASE üzerinden takip edilen varlık bilgilerinin haftalık grafik gösterimi**"
      ]
    },
    {
      "cell_type": "code",
      "metadata": {
        "colab": {
          "base_uri": "https://localhost:8080/",
          "height": 1000
        },
        "id": "b_cxPPzHMlUs",
        "outputId": "0aba3bea-093b-40d5-bccc-44b63ce68466"
      },
      "source": [
        "bch=data_market[(data_market['BaseAsset']==\"BCH\")]\n",
        "eth=data_market[(data_market['BaseAsset']==\"ETH\")]\n",
        "mkr=data_market[(data_market['BaseAsset']==\"MKR\")]\n",
        "comp=data_market[(data_market['BaseAsset']==\"COMP\")]\n",
        "yfii=data_market[(data_market['BaseAsset']==\"YFII\")]\n",
        "\n",
        "plt.figure(figsize=(10,3))\n",
        "sns.lineplot(data=bch, x=\"UpdatedAt\",y=\"Price\",hue='BaseAsset')\n",
        "plt.show()\n",
        "plt.figure(figsize=(10,3))\n",
        "sns.lineplot(data=eth, x=\"UpdatedAt\",y=\"Price\",hue='BaseAsset')\n",
        "plt.show()\n",
        "plt.figure(figsize=(10,3))\n",
        "sns.lineplot(data=mkr, x=\"UpdatedAt\",y=\"Price\",hue='BaseAsset')\n",
        "plt.show()\n",
        "plt.figure(figsize=(10,3))\n",
        "sns.lineplot(data=comp, x=\"UpdatedAt\",y=\"Price\",hue='BaseAsset')\n",
        "plt.show()\n",
        "plt.figure(figsize=(10,3))\n",
        "sns.lineplot(data=yfii, x=\"UpdatedAt\",y=\"Price\",hue='BaseAsset')\n",
        "plt.show()\n"
      ],
      "execution_count": 22,
      "outputs": [
        {
          "output_type": "display_data",
          "data": {
            "image/png": "[encoded data removed]",
            "text/plain": [
              "<Figure size 720x216 with 1 Axes>"
            ]
          },
          "metadata": {
            "needs_background": "light"
          }
        },
        {
          "output_type": "display_data",
          "data": {
            "image/png": "[encoded data removed]",
            "text/plain": [
              "<Figure size 720x216 with 1 Axes>"
            ]
          },
          "metadata": {
            "needs_background": "light"
          }
        },
        {
          "output_type": "display_data",
          "data": {
            "image/png": "[encoded data removed]",
            "text/plain": [
              "<Figure size 720x216 with 1 Axes>"
            ]
          },
          "metadata": {
            "needs_background": "light"
          }
        },
        {
          "output_type": "display_data",
          "data": {
            "image/png": "[encoded data removed]",
            "text/plain": [
              "<Figure size 720x216 with 1 Axes>"
            ]
          },
          "metadata": {
            "needs_background": "light"
          }
        },
        {
          "output_type": "display_data",
          "data": {
            "image/png": "[encoded data removed]",
            "text/plain": [
              "<Figure size 720x216 with 1 Axes>"
            ]
          },
          "metadata": {
            "needs_background": "light"
          }
        }
      ]
    },
    {
      "cell_type": "markdown",
      "metadata": {
        "id": "3nTj658ryNRb"
      },
      "source": [
        "# **Anlık portföy değer bilgisi grafik gösterimi**"
      ]
    },
    {
      "cell_type": "code",
      "metadata": {
        "colab": {
          "base_uri": "https://localhost:8080/",
          "height": 978
        },
        "id": "gHFQnpkadJdz",
        "outputId": "5e54c903-bc04-4aa1-f427-dddacc42a87a"
      },
      "source": [
        "pd_vrl_c=pd_vrl[(pd_vrl[\"AssetId\"] == \"YFII\") | (pd_vrl[\"AssetId\"] == \"ETH\") | (pd_vrl[\"AssetId\"] == \"MKR\") | (pd_vrl[\"AssetId\"] == \"BCH\") | (pd_vrl[\"AssetId\"] == \"COMP\")]\n",
        "\n",
        "\n",
        "labels = pd_vrl_c.Name\n",
        "sized = pd_vrl_c.Price\n",
        "colors = ['yellow', 'blue', 'red', 'green', 'orange']\n",
        "explode = (0.1, 0.1, 0.1, 0.1, 0.1)\n",
        "plt.figure(figsize=(10, 8))\n",
        "plt.pie(sized,labels=labels,explode=explode,autopct='%1.1f%%',colors=colors,shadow=True, startangle=90)\n",
        "plt.axis('equal')\n",
        "plt.legend(title='index', loc='upper right')\n",
        "plt.title('ANLIK PORTFÖY BİLGİSİ')\n",
        "\n",
        "x = pd_vrl_c.Name\n",
        "y = pd_vrl_c.Price\n",
        "\n",
        "plt.figure(figsize=(10, 8))\n",
        "plt.bar(x,y,width=0.5,color=colors)\n",
        "plt.title('ANLIK PORTFÖY BİLGİSİ')\n",
        "plt.ylabel('Price')\n",
        "plt.xlabel('Name')\n",
        "\n",
        "plt.show()"
      ],
      "execution_count": 24,
      "outputs": [
        {
          "output_type": "display_data",
          "data": {
            "image/png": "[encoded data removed]",
            "text/plain": [
              "<Figure size 720x576 with 1 Axes>"
            ]
          },
          "metadata": {}
        },
        {
          "output_type": "display_data",
          "data": {
            "image/png": "[encoded data removed]",
            "text/plain": [
              "<Figure size 720x576 with 1 Axes>"
            ]
          },
          "metadata": {
            "needs_background": "light"
          }
        }
      ]
    }
  ]
}